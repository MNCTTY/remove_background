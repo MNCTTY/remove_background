{
 "cells": [
  {
   "cell_type": "code",
   "execution_count": 1,
   "id": "33c0eced",
   "metadata": {},
   "outputs": [],
   "source": [
    "import sys\n",
    "sys.path.append('u2net')\n",
    "from u2net.prediction_class import Predict\n",
    "import cv2\n",
    "import numpy as np\n",
    "import os"
   ]
  },
  {
   "cell_type": "markdown",
   "id": "0eb363d6",
   "metadata": {},
   "source": [
    "**TEST:**\n",
    "сделали бинаризацию, сделали блюр по старому, результат в final, результат блюра без бинаризации в output\n",
    "\n",
    "**TEST 1:**\n",
    "сначала делаем бинаризацию, потом делаем блюр по новому\n",
    "\n",
    "**TEST 2:**\n",
    "сначала делаем бинаризацию, потом блюр по старому, потом блюр по новому\n",
    "\n",
    "**TEST 3:**\n",
    "сначала делаем бинаризацию, потом блюр по новому, потом блюр по старому"
   ]
  },
  {
   "cell_type": "markdown",
   "id": "852ef6b8",
   "metadata": {},
   "source": [
    "TEstы 2 и 3 не нужны, потому что бинаризация отрезает волосы"
   ]
  },
  {
   "cell_type": "markdown",
   "id": "3c154e23",
   "metadata": {},
   "source": [
    "Надо понять, на сколько вообще нужна бинаризация, потому что ее надо либо уменьшать, либо убирать совсем\n",
    "\n",
    "И после нее надо ставить блюр по новому"
   ]
  },
  {
   "cell_type": "markdown",
   "id": "accc343f",
   "metadata": {},
   "source": [
    "**TEST 1:**"
   ]
  },
  {
   "cell_type": "code",
   "execution_count": 20,
   "id": "5292a8ad",
   "metadata": {},
   "outputs": [],
   "source": [
    "image = '/home/ubuntu/removebg/test_1/test.jpg'\n",
    "model_name = 'u2net'"
   ]
  },
  {
   "cell_type": "code",
   "execution_count": 21,
   "id": "bc5f9e61",
   "metadata": {},
   "outputs": [],
   "source": [
    "img = cv2.imread(image, cv2.IMREAD_ANYCOLOR)"
   ]
  },
  {
   "cell_type": "code",
   "execution_count": 22,
   "id": "e5633a87",
   "metadata": {},
   "outputs": [],
   "source": [
    "# prediction = Predict(model_name)\n",
    "# prediction.predict(image)"
   ]
  },
  {
   "cell_type": "code",
   "execution_count": 23,
   "id": "0e64667d",
   "metadata": {},
   "outputs": [],
   "source": [
    "mask_path = '/home/ubuntu/removebg/test_1/test.png'"
   ]
  },
  {
   "cell_type": "code",
   "execution_count": 24,
   "id": "02e14d50",
   "metadata": {},
   "outputs": [],
   "source": [
    "matting = cv2.imread(mask_path, cv2.IMREAD_ANYCOLOR)"
   ]
  },
  {
   "cell_type": "code",
   "execution_count": 25,
   "id": "50b669f5",
   "metadata": {},
   "outputs": [],
   "source": [
    "##### бинаризация \n",
    "\n",
    "th, im_th = cv2.threshold(matting, 150, 255, cv2.THRESH_BINARY)\n",
    "cv2.imwrite(mask_path[:-4]+'_binarized.png', im_th)\n",
    "binarized = cv2.imread(mask_path[:-4]+'_binarized.png')\n",
    "\n",
    "kernel = np.ones((5,5), np.uint8)\n",
    "binarized_smoothed = cv2.erode(binarized,kernel,iterations = 1)\n",
    "\n",
    "cv2.imwrite(mask_path[:-4]+'_binarized_eroded.png', binarized_smoothed) \n",
    "binarized_eroded = cv2.imread(mask_path[:-4]+'_binarized_eroded.png', cv2.IMREAD_GRAYSCALE)"
   ]
  },
  {
   "cell_type": "code",
   "execution_count": 28,
   "id": "657ebbc6",
   "metadata": {},
   "outputs": [
    {
     "name": "stderr",
     "output_type": "stream",
     "text": [
      "/home/ubuntu/.local/lib/python3.7/site-packages/ipykernel_launcher.py:14: DeprecationWarning: elementwise comparison failed; this will raise an error in the future.\n",
      "  \n"
     ]
    },
    {
     "data": {
      "text/plain": [
       "True"
      ]
     },
     "execution_count": 28,
     "metadata": {},
     "output_type": "execute_result"
    }
   ],
   "source": [
    "mask_ = binarized_eroded #cv2.imread(mask_path)\n",
    "blurred_mask = cv2.GaussianBlur(mask_, (21, 21), 0)\n",
    "mask_of_mask = np.zeros(mask_.shape, np.uint8)\n",
    "\n",
    "# gray = cv2.cvtColor(mask_, cv2.COLOR_BGR2GRAY)\n",
    "# cv2.imwrite(mask_path[:-4]+'_gray.png', gray)\n",
    "\n",
    "thresh = cv2.threshold(mask_of_mask, 60, 255, cv2.THRESH_BINARY)[1]\n",
    "contours, hierarchy = cv2.findContours(thresh.copy(), cv2.RETR_EXTERNAL, cv2.CHAIN_APPROX_SIMPLE)\n",
    "\n",
    "res = cv2.drawContours(mask_of_mask, contours, -1, (255,255,255),5)\n",
    "cv2.imwrite(mask_path[:-4]+'_res.png', res)\n",
    "\n",
    "output = np.where(mask_of_mask==np.array([255, 255, 255]), blurred_mask, mask_)\n",
    "cv2.imwrite(mask_path[:-4]+'_output.png', output)\n",
    "\n",
    "result_mask = cv2.imread(mask_path[:-4]+'_output.png', cv2.IMREAD_GRAYSCALE)\n",
    "##### удаление фона \n",
    "\n",
    "result = cv2.bitwise_and(img, img, mask=result_mask)\n",
    "result[result_mask==0] = [255,255,255]\n",
    "\n",
    "cv2.imwrite(mask_path[:-4]+'_final.png', result)"
   ]
  },
  {
   "cell_type": "code",
   "execution_count": null,
   "id": "50776e14",
   "metadata": {},
   "outputs": [],
   "source": []
  },
  {
   "cell_type": "code",
   "execution_count": 28,
   "id": "26fc6ee8",
   "metadata": {},
   "outputs": [
    {
     "data": {
      "text/plain": [
       "(640, 960, 3)"
      ]
     },
     "execution_count": 28,
     "metadata": {},
     "output_type": "execute_result"
    }
   ],
   "source": [
    "img.shape"
   ]
  },
  {
   "cell_type": "code",
   "execution_count": 29,
   "id": "7a61e4c5",
   "metadata": {},
   "outputs": [
    {
     "data": {
      "text/plain": [
       "(640, 960, 3)"
      ]
     },
     "execution_count": 29,
     "metadata": {},
     "output_type": "execute_result"
    }
   ],
   "source": [
    "output.shape"
   ]
  },
  {
   "cell_type": "code",
   "execution_count": null,
   "id": "4f350e94",
   "metadata": {},
   "outputs": [],
   "source": []
  },
  {
   "cell_type": "code",
   "execution_count": null,
   "id": "6e73934b",
   "metadata": {},
   "outputs": [],
   "source": []
  },
  {
   "cell_type": "code",
   "execution_count": null,
   "id": "28e3c2c5",
   "metadata": {},
   "outputs": [],
   "source": []
  },
  {
   "cell_type": "code",
   "execution_count": 12,
   "id": "c1210716",
   "metadata": {},
   "outputs": [],
   "source": [
    "##### блюр или блюр через erode \n",
    "\n",
    "\n",
    "#binarized_smoothed = cv2.blur(binarized, (5,5),0)\n",
    "kernel = np.ones((5,5), np.uint8)\n",
    "binarized_smoothed = cv2.erode(binarized,kernel,iterations = 1)\n",
    "\n",
    "cv2.imwrite(mask_path[:-4]+'_binarized_smoothed.png', binarized_smoothed) \n",
    "result_mask = cv2.imread(mask_path[:-4]+'_binarized_smoothed.png', cv2.IMREAD_GRAYSCALE)"
   ]
  },
  {
   "cell_type": "code",
   "execution_count": 14,
   "id": "e99e1a97",
   "metadata": {},
   "outputs": [
    {
     "data": {
      "text/plain": [
       "(640, 960, 3)"
      ]
     },
     "execution_count": 14,
     "metadata": {},
     "output_type": "execute_result"
    }
   ],
   "source": [
    "binarized_smoothed.shape"
   ]
  },
  {
   "cell_type": "code",
   "execution_count": 13,
   "id": "f4828257",
   "metadata": {},
   "outputs": [
    {
     "data": {
      "text/plain": [
       "(640, 960)"
      ]
     },
     "execution_count": 13,
     "metadata": {},
     "output_type": "execute_result"
    }
   ],
   "source": [
    "result_mask.shape"
   ]
  },
  {
   "cell_type": "code",
   "execution_count": 13,
   "id": "e4281e9d",
   "metadata": {},
   "outputs": [],
   "source": [
    "##### удаление фона \n",
    "\n",
    "\n",
    "result = cv2.bitwise_and(img, img, mask=result_mask)\n",
    "result[result_mask==0] = [255,255,255]\n",
    "\n",
    "cv2.imwrite(mask_path[:-4]+'_final.png', result)"
   ]
  },
  {
   "cell_type": "code",
   "execution_count": 38,
   "id": "ddeefd28",
   "metadata": {},
   "outputs": [],
   "source": [
    "# os.remove(mask_path[:-4]+'_binarized.png')\n",
    "# os.remove(mask_path[:-4]+'_binarized_smoothed.png')"
   ]
  },
  {
   "cell_type": "code",
   "execution_count": null,
   "id": "a3d8ebfb",
   "metadata": {},
   "outputs": [],
   "source": []
  },
  {
   "cell_type": "code",
   "execution_count": null,
   "id": "18f5bffa",
   "metadata": {},
   "outputs": [],
   "source": []
  },
  {
   "cell_type": "code",
   "execution_count": 15,
   "id": "42d5f1c8",
   "metadata": {},
   "outputs": [],
   "source": [
    "mask_ = cv2.imread(mask_path)\n",
    "blurred_mask = cv2.GaussianBlur(mask_, (21, 21), 0)\n",
    "mask_of_mask = np.zeros(mask_.shape, np.uint8)"
   ]
  },
  {
   "cell_type": "code",
   "execution_count": 24,
   "id": "8e620d86",
   "metadata": {},
   "outputs": [
    {
     "data": {
      "text/plain": [
       "True"
      ]
     },
     "execution_count": 24,
     "metadata": {},
     "output_type": "execute_result"
    }
   ],
   "source": [
    "gray = cv2.cvtColor(mask_, cv2.COLOR_BGR2GRAY)\n",
    "cv2.imwrite(mask_path[:-4]+'_gray.png', gray)"
   ]
  },
  {
   "cell_type": "code",
   "execution_count": 25,
   "id": "705a7140",
   "metadata": {},
   "outputs": [],
   "source": [
    "thresh = cv2.threshold(gray, 60, 255, cv2.THRESH_BINARY)[1]"
   ]
  },
  {
   "cell_type": "code",
   "execution_count": 26,
   "id": "4942d53d",
   "metadata": {},
   "outputs": [],
   "source": [
    "contours, hierarchy = cv2.findContours(thresh.copy(), cv2.RETR_EXTERNAL, cv2.CHAIN_APPROX_SIMPLE)"
   ]
  },
  {
   "cell_type": "code",
   "execution_count": 27,
   "id": "34a04362",
   "metadata": {},
   "outputs": [
    {
     "data": {
      "text/plain": [
       "True"
      ]
     },
     "execution_count": 27,
     "metadata": {},
     "output_type": "execute_result"
    }
   ],
   "source": [
    "res = cv2.drawContours(mask_of_mask, contours, -1, (255,255,255),5)\n",
    "cv2.imwrite(mask_path[:-4]+'_res.png', res)"
   ]
  },
  {
   "cell_type": "code",
   "execution_count": 29,
   "id": "752f108c",
   "metadata": {},
   "outputs": [
    {
     "data": {
      "text/plain": [
       "True"
      ]
     },
     "execution_count": 29,
     "metadata": {},
     "output_type": "execute_result"
    }
   ],
   "source": [
    "output = np.where(mask_of_mask==np.array([255, 255, 255]), blurred_mask, mask_)\n",
    "cv2.imwrite(mask_path[:-4]+'_output.png', output)"
   ]
  },
  {
   "cell_type": "code",
   "execution_count": null,
   "id": "b62d265a",
   "metadata": {},
   "outputs": [],
   "source": []
  },
  {
   "cell_type": "code",
   "execution_count": null,
   "id": "6eee5d5b",
   "metadata": {},
   "outputs": [],
   "source": []
  }
 ],
 "metadata": {
  "kernelspec": {
   "display_name": "Python 3",
   "language": "python",
   "name": "python3"
  },
  "language_info": {
   "codemirror_mode": {
    "name": "ipython",
    "version": 3
   },
   "file_extension": ".py",
   "mimetype": "text/x-python",
   "name": "python",
   "nbconvert_exporter": "python",
   "pygments_lexer": "ipython3",
   "version": "3.7.10"
  }
 },
 "nbformat": 4,
 "nbformat_minor": 5
}
