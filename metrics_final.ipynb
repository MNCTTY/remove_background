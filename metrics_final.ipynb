{
 "cells": [
  {
   "cell_type": "markdown",
   "metadata": {},
   "source": [
    "- SAD\n",
    "- MSE\n",
    "- structural similarity\n",
    "- F1\n"
   ]
  },
  {
   "cell_type": "code",
   "execution_count": 1,
   "metadata": {},
   "outputs": [],
   "source": [
    "from skimage import metrics\n",
    "import matplotlib.pyplot as plt\n",
    "import numpy as np\n",
    "import cv2\n",
    "from skimage.metrics import adapted_rand_error, variation_of_information\n",
    "from sklearn.metrics import confusion_matrix  "
   ]
  },
  {
   "cell_type": "code",
   "execution_count": 2,
   "metadata": {},
   "outputs": [],
   "source": [
    "def sad(imageA, imageB):\n",
    "   \n",
    "    # sum of the abs difference between the two images;\n",
    "    err = np.sum(np.abs(imageA.astype(\"float\") - imageB.astype(\"float\")))\n",
    "    err /= float(imageA.shape[0] * imageA.shape[1])\n",
    "\n",
    "    return err"
   ]
  },
  {
   "cell_type": "code",
   "execution_count": 3,
   "metadata": {},
   "outputs": [],
   "source": [
    "def mse(imageA, imageB):\n",
    "    \n",
    "    # sum of the squared difference between the two images;\n",
    "    err = np.sum((imageA.astype(\"float\") - imageB.astype(\"float\")) ** 2)\n",
    "    err /= float(imageA.shape[0] * imageA.shape[1])\n",
    "\n",
    "    return err\n"
   ]
  },
  {
   "cell_type": "code",
   "execution_count": 4,
   "metadata": {},
   "outputs": [],
   "source": [
    "def compute_iou(y_pred, y_true):\n",
    "    # ytrue, ypred is a flatten vector\n",
    "    y_pred = y_pred.flatten()\n",
    "    y_true = y_true.flatten()\n",
    "    current = confusion_matrix(y_true, y_pred, labels=[0, 1])\n",
    "    # compute mean iou\n",
    "    intersection = np.diag(current)\n",
    "    ground_truth_set = current.sum(axis=1)\n",
    "    predicted_set = current.sum(axis=0)\n",
    "    union = ground_truth_set + predicted_set - intersection\n",
    "    IoU = intersection / union.astype(np.float32)\n",
    "    return np.mean(IoU)"
   ]
  },
  {
   "cell_type": "code",
   "execution_count": 5,
   "metadata": {},
   "outputs": [],
   "source": [
    "def compare_images(imageA, imageB, title):\n",
    "\n",
    "    m = mse(imageA, imageB)\n",
    "    s = metrics.structural_similarity(imageA, imageB)\n",
    "    d = sad(imageA, imageB)\n",
    "    \n",
    "    error, precision, recall = adapted_rand_error(imageA, imageB)\n",
    "    splits, merges = variation_of_information(imageA, imageB)\n",
    "\n",
    "    f1 = 2 * precision * recall / (precision + recall)\n",
    "    iou = compute_iou(imageA, imageB)\n",
    "\n",
    "#     fig = plt.figure(title)\n",
    "#     plt.suptitle(\"MSE: %.2f, SAD: %.2f, SSIM: %.2f, F1: %.2f, IoU: %.2f\" % (m, d, s, f1, iou))\n",
    "\n",
    "#     ax = fig.add_subplot(1, 2, 1)\n",
    "#     plt.imshow(imageA, cmap = plt.cm.gray)\n",
    "#     plt.axis(\"off\")\n",
    "\n",
    "#     ax = fig.add_subplot(1, 2, 2)\n",
    "#     plt.imshow(imageB, cmap = plt.cm.gray)\n",
    "#     plt.axis(\"off\")\n",
    "\n",
    "#     plt.show()\n",
    "\n",
    "#     print('mse: ', m)\n",
    "#     print('sad: ', d)\n",
    "#     print('structural similarity: ', s)\n",
    "\n",
    "#     print('f1: ', f1)\n",
    "#     print('iou: ', iou)\n",
    "    \n",
    "#     print('precision: ', precision)\n",
    "#     print('recall: ', recall)\n",
    "\n",
    "#     print('mse, sad, ssim, f1')\n",
    "\n",
    "    return m, d, s, f1"
   ]
  },
  {
   "cell_type": "code",
   "execution_count": 6,
   "metadata": {},
   "outputs": [],
   "source": [
    "# impath1 = 'test/test.png'\n",
    "# impath2 = 'test/test_binarized.png'\n",
    "\n",
    "impath1 = 'objective_test/original_gts/00.png'\n",
    "impath2 = 'objective_test/our_masks/00.png'\n",
    "impath3 = 'objective_test/removebg_masks/00.png'"
   ]
  },
  {
   "cell_type": "code",
   "execution_count": 7,
   "metadata": {},
   "outputs": [],
   "source": [
    "img1 = cv2.imread(impath1)\n",
    "img2 = cv2.imread(impath2)\n",
    "img3 = cv2.imread(impath3)\n",
    "\n",
    "img1 = cv2.cvtColor(img1, cv2.COLOR_BGR2GRAY)\n",
    "img2 = cv2.cvtColor(img2, cv2.COLOR_BGR2GRAY)\n",
    "img3 = cv2.cvtColor(img3, cv2.COLOR_BGR2GRAY)"
   ]
  },
  {
   "cell_type": "code",
   "execution_count": 8,
   "metadata": {},
   "outputs": [
    {
     "data": {
      "text/plain": [
       "(382.53786849975586,\n",
       " 2.4685401916503906,\n",
       " 0.9648392165800469,\n",
       " 0.9775524171619054)"
      ]
     },
     "execution_count": 8,
     "metadata": {},
     "output_type": "execute_result"
    }
   ],
   "source": [
    "compare_images(img1, img3, \"Original vs. Removebg\")"
   ]
  },
  {
   "cell_type": "code",
   "execution_count": 9,
   "metadata": {},
   "outputs": [
    {
     "data": {
      "text/plain": [
       "(93.5726547241211, 1.3487930297851562, 0.9803990708630027, 0.9238380091223866)"
      ]
     },
     "execution_count": 9,
     "metadata": {},
     "output_type": "execute_result"
    }
   ],
   "source": [
    "compare_images(img1, img2, \"Original vs. Ours\")"
   ]
  },
  {
   "cell_type": "code",
   "execution_count": 10,
   "metadata": {},
   "outputs": [
    {
     "data": {
      "text/plain": [
       "(230.21543502807617,\n",
       " 2.0574684143066406,\n",
       " 0.9700862875488642,\n",
       " 0.8960130577704767)"
      ]
     },
     "execution_count": 10,
     "metadata": {},
     "output_type": "execute_result"
    }
   ],
   "source": [
    "compare_images(img3, img2, \"Removebg vs. Ours\")"
   ]
  },
  {
   "cell_type": "code",
   "execution_count": null,
   "metadata": {},
   "outputs": [],
   "source": []
  },
  {
   "cell_type": "code",
   "execution_count": 11,
   "metadata": {},
   "outputs": [],
   "source": [
    "import glob"
   ]
  },
  {
   "cell_type": "code",
   "execution_count": 12,
   "metadata": {},
   "outputs": [],
   "source": [
    "path1_gt = 'objective_test/original_gts/'\n",
    "path2_nano = 'objective_test/our_masks/'\n",
    "path3_rmbg = 'objective_test/removebg_masks/'"
   ]
  },
  {
   "cell_type": "code",
   "execution_count": 13,
   "metadata": {},
   "outputs": [],
   "source": [
    "gt_files = glob.glob(path1_gt+'*')\n",
    "nano_files = glob.glob(path2_nano+'*')\n",
    "rmbg_files = glob.glob(path3_rmbg+'*')"
   ]
  },
  {
   "cell_type": "code",
   "execution_count": 14,
   "metadata": {},
   "outputs": [],
   "source": [
    "gt_files.sort()\n",
    "nano_files.sort()\n",
    "rmbg_files.sort()"
   ]
  },
  {
   "cell_type": "code",
   "execution_count": 15,
   "metadata": {},
   "outputs": [
    {
     "data": {
      "text/plain": [
       "(1922, 1922, 1922)"
      ]
     },
     "execution_count": 15,
     "metadata": {},
     "output_type": "execute_result"
    }
   ],
   "source": [
    "len(gt_files), len(nano_files), len(rmbg_files)"
   ]
  },
  {
   "cell_type": "code",
   "execution_count": 16,
   "metadata": {},
   "outputs": [
    {
     "data": {
      "text/plain": [
       "'00001.png'"
      ]
     },
     "execution_count": 16,
     "metadata": {},
     "output_type": "execute_result"
    }
   ],
   "source": [
    "gt_files[1].split('/')[-1]"
   ]
  },
  {
   "cell_type": "code",
   "execution_count": 17,
   "metadata": {},
   "outputs": [
    {
     "data": {
      "text/plain": [
       "'302432h09_38.png'"
      ]
     },
     "execution_count": 17,
     "metadata": {},
     "output_type": "execute_result"
    }
   ],
   "source": [
    "gt_files[437].split('/')[-1]"
   ]
  },
  {
   "cell_type": "code",
   "execution_count": 18,
   "metadata": {},
   "outputs": [
    {
     "data": {
      "text/plain": [
       "'302432h09_38.png'"
      ]
     },
     "execution_count": 18,
     "metadata": {},
     "output_type": "execute_result"
    }
   ],
   "source": [
    "nano_files[437].split('/')[-1]"
   ]
  },
  {
   "cell_type": "code",
   "execution_count": 19,
   "metadata": {},
   "outputs": [
    {
     "data": {
      "text/plain": [
       "'302432h09_38.png'"
      ]
     },
     "execution_count": 19,
     "metadata": {},
     "output_type": "execute_result"
    }
   ],
   "source": [
    "rmbg_files[437].split('/')[-1]"
   ]
  },
  {
   "cell_type": "code",
   "execution_count": 20,
   "metadata": {},
   "outputs": [],
   "source": [
    "#check \n",
    "\n",
    "for i in range (len(gt_files)):\n",
    "    if not((gt_files[i].split('/')[-1] == nano_files[i].split('/')[-1]) and (nano_files[i].split('/')[-1]==rmbg_files[i].split('/')[-1])):\n",
    "        print(i)"
   ]
  },
  {
   "cell_type": "code",
   "execution_count": 21,
   "metadata": {},
   "outputs": [],
   "source": [
    "import time"
   ]
  },
  {
   "cell_type": "code",
   "execution_count": null,
   "metadata": {
    "scrolled": false
   },
   "outputs": [],
   "source": [
    "mse_nano = []\n",
    "mse_rmbg = []\n",
    "\n",
    "sad_nano = []\n",
    "sad_rmbg = []\n",
    "\n",
    "ssim_nano = []\n",
    "ssim_rmbg = []\n",
    "\n",
    "f1_nano = []\n",
    "f1_rmbg = []\n",
    "\n",
    "start = time.monotonic()\n",
    "for i in range(len(gt_files)):\n",
    "    \n",
    "    img1 = cv2.imread(gt_files[i]) # эталон\n",
    "    img2 = cv2.imread(nano_files[i]) # наша\n",
    "    img3 = cv2.imread(rmbg_files[i]) # их \n",
    "\n",
    "    img1 = cv2.cvtColor(img1, cv2.COLOR_BGR2GRAY)\n",
    "    img2 = cv2.cvtColor(img2, cv2.COLOR_BGR2GRAY)\n",
    "    img3 = cv2.cvtColor(img3, cv2.COLOR_BGR2GRAY)\n",
    "    \n",
    "    try:\n",
    "        res1 = compare_images(img1, img2, \"Original vs. Ours\")\n",
    "        res2 = compare_images(img1, img3, \"Original vs. Removebg\")\n",
    "\n",
    "        mse_nano.append(res1[0])\n",
    "        mse_rmbg.append(res2[0])\n",
    "\n",
    "        sad_nano.append(res1[1])\n",
    "        sad_rmbg.append(res2[1])\n",
    "\n",
    "        ssim_nano.append(res1[2])\n",
    "        ssim_rmbg.append(res2[2])\n",
    "\n",
    "        f1_nano.append(res1[3])\n",
    "        f1_rmbg.append(res2[3])\n",
    "    except:\n",
    "        print(i)\n",
    "\n",
    "end = time.monotonic() - start"
   ]
  },
  {
   "cell_type": "code",
   "execution_count": 23,
   "metadata": {},
   "outputs": [
    {
     "data": {
      "text/plain": [
       "787.4070181490388"
      ]
     },
     "execution_count": 23,
     "metadata": {},
     "output_type": "execute_result"
    }
   ],
   "source": [
    "end"
   ]
  },
  {
   "cell_type": "code",
   "execution_count": 24,
   "metadata": {},
   "outputs": [
    {
     "name": "stdout",
     "output_type": "stream",
     "text": [
      "Меньше - лучше: \n",
      " \n",
      "MSE nanosemanitcs:  278382.10261917114\n",
      "MSE remove.bg :  1373062.7342147827\n",
      " \n",
      "SAD nanosemanitcs:  4143.231281280518\n",
      "SAD remove.bg :  7426.797630310059\n",
      " \n",
      " \n",
      " \n",
      "Больше - лучше: \n",
      " \n",
      "SSim nanosemanitcs:  1817.6073532942585\n",
      "SSim remove.bg :  1743.951858394521\n",
      " \n",
      "F1 nanosemanitcs:  1646.8145118626246\n",
      "F1 remove.bg :  1880.0310921851362\n"
     ]
    }
   ],
   "source": [
    "print('Меньше - лучше: ')\n",
    "print(' ')\n",
    "print('MSE nanosemanitcs: ', sum(mse_nano))\n",
    "print('MSE remove.bg : ', sum(mse_rmbg))\n",
    "print(' ')\n",
    "\n",
    "print('SAD nanosemanitcs: ', sum(sad_nano))\n",
    "print('SAD remove.bg : ', sum(sad_rmbg))\n",
    "print(' ')\n",
    "print(' ')\n",
    "print(' ')\n",
    "\n",
    "print('Больше - лучше: ')\n",
    "print(' ')\n",
    "\n",
    "print('SSim nanosemanitcs: ', sum(ssim_nano))\n",
    "print('SSim remove.bg : ', sum(ssim_rmbg))\n",
    "print(' ')\n",
    "\n",
    "print('F1 nanosemanitcs: ', sum(f1_nano))\n",
    "print('F1 remove.bg : ', sum(f1_rmbg))"
   ]
  },
  {
   "cell_type": "code",
   "execution_count": null,
   "metadata": {},
   "outputs": [],
   "source": []
  }
 ],
 "metadata": {
  "kernelspec": {
   "display_name": "Python 3",
   "language": "python",
   "name": "python3"
  },
  "language_info": {
   "codemirror_mode": {
    "name": "ipython",
    "version": 3
   },
   "file_extension": ".py",
   "mimetype": "text/x-python",
   "name": "python",
   "nbconvert_exporter": "python",
   "pygments_lexer": "ipython3",
   "version": "3.6.8"
  }
 },
 "nbformat": 4,
 "nbformat_minor": 5
}
